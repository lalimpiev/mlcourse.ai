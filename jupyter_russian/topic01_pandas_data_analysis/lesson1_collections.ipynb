{
 "cells": [
  {
   "cell_type": "markdown",
   "metadata": {},
   "source": [
    "# Модуль Collections."
   ]
  },
  {
   "cell_type": "markdown",
   "metadata": {},
   "source": [
    "Модуль collections содержит специализированный контейнер типов данных, который может быть использован для замены контейнеров общего назначения Python (dict, tuple, list, и set). Мы изучим следующие части этого замечательного модуля:"
   ]
  },
  {
   "cell_type": "markdown",
   "metadata": {},
   "source": [
    "\n",
    "    ChainMap\n",
    "    defaultdict\n",
    "    OrderedDict\n",
    "    Counter\n"
   ]
  },
  {
   "cell_type": "markdown",
   "metadata": {},
   "source": [
    "**ChainMap**"
   ]
  },
  {
   "cell_type": "markdown",
   "metadata": {},
   "source": [
    "ChainMap – это класс, который дает возможность объединить несколько сопоставлений вместе таким образом, чтобы они стали единым целым. Если вы обратитесь к документации, то увидите, что данный класс принимает **maps*. \n",
    "\n",
    "Это значит, что ChainMap будет принимать любое количество сопоставлений или словарей и превращать их в единое обновляемое представление."
   ]
  },
  {
   "cell_type": "code",
   "execution_count": 24,
   "metadata": {},
   "outputs": [
    {
     "name": "stdout",
     "output_type": "stream",
     "text": [
      "500\n"
     ]
    },
    {
     "data": {
      "text/plain": [
       "ChainMap({'A/C': 1000, 'Turbo': 2500, 'rollbar': 300}, {'hood': 500, 'engine': 5000, 'front_door': 750})"
      ]
     },
     "execution_count": 24,
     "metadata": {},
     "output_type": "execute_result"
    }
   ],
   "source": [
    "from collections import ChainMap\n",
    " \n",
    "car_parts = {\n",
    "    'hood': 500,\n",
    "    'engine': 5000,\n",
    "    'front_door': 750\n",
    "}\n",
    " \n",
    "car_accessories = {\n",
    "    'cover': 100,\n",
    "    'hood_ornament': 150,\n",
    "    'seat_cover': 99\n",
    "}\n",
    "\n",
    "car_options = {\n",
    "    'A/C': 1000,\n",
    "    'Turbo': 2500,\n",
    "    'rollbar': 300\n",
    "}\n",
    " \n",
    "\n",
    "car_pricing = ChainMap(car_accessories, car_options, car_parts)\n",
    " \n",
    "print(car_pricing['hood']) # 500\n",
    "car_pricing.parents # все кроме первого\n"
   ]
  },
  {
   "cell_type": "markdown",
   "metadata": {},
   "source": [
    "Здесь мы импортировали ChainMap из модуля collections. Затем мы создали три словаря Python. Далее, мы создали экземпляр ChainMap, передав эти три словаря. В конце мы попытались получить доступ к одному из ключей в нашем ChainMap. После этого, ChainMap пройдет через каждое сопоставление, чтобы увидеть, существует ли данный ключ и имеет ли он значение. Если это так, тогда ChainMap вернет первое найденное значение, которое соответствует ключу. Это весьма полезно в тех случаях, когда вам нужно установить настройки по умолчанию."
   ]
  },
  {
   "cell_type": "markdown",
   "metadata": {},
   "source": [
    "**Defaultdict**"
   ]
  },
  {
   "cell_type": "markdown",
   "metadata": {},
   "source": [
    "\n",
    "\n",
    "Модуль collections содержит удобный инструмент под названием defaultdict. Это наследуемый класс Python dict, который принимает default_factory как первичный аргумент. Тип default_factory — это обычный тип Python, такой как int или list, но вы также можете использовать функцию или лямбду. Давайте начнем с создания обычного словаря Python, который считает, сколько раз было использовано каждое слово в предложении:"
   ]
  },
  {
   "cell_type": "code",
   "execution_count": 28,
   "metadata": {},
   "outputs": [
    {
     "name": "stdout",
     "output_type": "stream",
     "text": [
      "{'The': 1, 'red': 1, 'for': 2, 'jumped': 1, 'over': 1, 'the': 2, 'fence': 1, 'and': 1, 'ran': 1, 'to': 1, 'zoo': 1, 'food': 1}\n"
     ]
    }
   ],
   "source": [
    "sentence = \"The red for jumped over the fence and ran to the zoo for food\"\n",
    "words = sentence.split(' ')\n",
    "\n",
    "reg_dict = {}\n",
    "for word in words:\n",
    "    if word in reg_dict:\n",
    "        reg_dict[word] += 1\n",
    "    else:\n",
    "        reg_dict[word] = 1\n",
    "\n",
    "print(reg_dict)"
   ]
  },
  {
   "cell_type": "code",
   "execution_count": 29,
   "metadata": {},
   "outputs": [
    {
     "name": "stdout",
     "output_type": "stream",
     "text": [
      "defaultdict(<class 'int'>, {'The': 1, 'red': 1, 'for': 2, 'jumped': 1, 'over': 1, 'the': 2, 'fence': 1, 'and': 1, 'ran': 1, 'to': 1, 'zoo': 1, 'food': 1})\n"
     ]
    }
   ],
   "source": [
    "# с defaultdict\n",
    "from collections import defaultdict\n",
    " \n",
    "sentence = \"The red for jumped over the fence and ran to the zoo for food\"\n",
    "words = sentence.split(' ')\n",
    " \n",
    "d = defaultdict(int)\n",
    "for word in words:\n",
    "    d[word] += 1\n",
    "print(d)"
   ]
  },
  {
   "cell_type": "markdown",
   "metadata": {},
   "source": [
    "Этот код намного проще. Это связано с тем, что defaultdict автоматически назначает ноль как значение любому ключу, который еще не имеет значения. Мы добавили одно, так что теперь в нем больше смысла, и оно также будет увеличиваться, если слово повторяется в предложении несколько раз в предложении.\n",
    "\n",
    "Давайте попробуем использовать тип списка в качестве нашей фабрики по умолчанию. Сначала мы начнем с обычного словаря так же, как мы делали это раньше:"
   ]
  },
  {
   "cell_type": "code",
   "execution_count": 31,
   "metadata": {},
   "outputs": [
    {
     "name": "stdout",
     "output_type": "stream",
     "text": [
      "{1234: [100.23, 75.0, 35.67], 345: [10.45, 222.66], 678: [300.25]}\n"
     ]
    }
   ],
   "source": [
    "my_list = [(1234, 100.23), (345, 10.45), (1234, 75.00),\n",
    "           (345, 222.66), (678, 300.25), (1234, 35.67)]\n",
    " \n",
    "reg_dict = {}\n",
    "for acct_num, value in my_list:\n",
    "    if acct_num in reg_dict:\n",
    "        reg_dict[acct_num].append(value)\n",
    "    else:\n",
    "        reg_dict[acct_num] = [value]\n",
    "print (reg_dict)"
   ]
  },
  {
   "cell_type": "code",
   "execution_count": 32,
   "metadata": {},
   "outputs": [
    {
     "name": "stdout",
     "output_type": "stream",
     "text": [
      "defaultdict(<class 'list'>, {1234: [100.23, 75.0, 35.67], 345: [10.45, 222.66], 678: [300.25]})\n"
     ]
    }
   ],
   "source": [
    "my_list = [(1234, 100.23), (345, 10.45), (1234, 75.00),\n",
    "           (345, 222.66), (678, 300.25), (1234, 35.67)]\n",
    " \n",
    "d = defaultdict(list)\n",
    "for acct_num, value in my_list:\n",
    "    d[acct_num].append(value)\n",
    "print(d)"
   ]
  },
  {
   "cell_type": "code",
   "execution_count": 33,
   "metadata": {},
   "outputs": [
    {
     "name": "stdout",
     "output_type": "stream",
     "text": [
      "Monkey\n",
      "defaultdict(<function <lambda> at 0x7fbb3879c268>, {'Sam': 'Tiger', 'Nick': 'Monkey'})\n"
     ]
    }
   ],
   "source": [
    "# лямбда-функция\n",
    "animal = defaultdict(lambda: \"Monkey\")\n",
    "animal['Sam'] = 'Tiger'\n",
    " \n",
    "print(animal['Nick']) # Monkey\n",
    " \n",
    "print(animal)"
   ]
  },
  {
   "cell_type": "markdown",
   "metadata": {},
   "source": [
    "Здесь мы создали defaultdict, который назначает ‘Monkey’ в качестве значения по умолчания любому ключу. Мы установили в ‘Tiger’, далее, следующий ключ мы не устанавливаем вообще. Если выведите второй ключ, вы увидите, что он был назначен как ‘Monkey’. "
   ]
  },
  {
   "cell_type": "markdown",
   "metadata": {},
   "source": [
    "**Counter**"
   ]
  },
  {
   "cell_type": "markdown",
   "metadata": {},
   "source": [
    "Модуль collections также предоставляет нам небольшой аккуратный инструмент, который поддерживает быстрый и удобный в пользовании калькулятор. Этот инструмент называется Counter. Вы можете запустить его против большинства итерируемых. Давайте попробуем взглянуть на него в строке."
   ]
  },
  {
   "cell_type": "code",
   "execution_count": 35,
   "metadata": {},
   "outputs": [
    {
     "name": "stdout",
     "output_type": "stream",
     "text": [
      "Counter({'u': 3, 's': 2, 'p': 1, 'e': 1, 'r': 1, 'f': 1, 'l': 1, 'o': 1})\n",
      "3\n"
     ]
    }
   ],
   "source": [
    "from collections import Counter\n",
    " \n",
    "a = Counter('superfluous')\n",
    " \n",
    "# Counter({'u': 3, 's': 2, 'e': 1, 'l': 1, 'f': 1, 'o': 1, 'r': 1, 'p': 1})\n",
    "print(a)\n",
    " \n",
    "counter = Counter('superfluous')\n",
    "print(counter['u'])"
   ]
  },
  {
   "cell_type": "markdown",
   "metadata": {},
   "source": [
    "В данном примере мы импортировали Counter из модуля collections и передали его строке. Это возвращает нам объект Counter, который является наследуемым классом словаря Python. Когда мы запускаем эту же команду, но назначаем её счетчик переменной, чтобы доступ к словарю был несколько проще. В данном случае, мы видим, что буква “u” встречается три раза в нашем примере. Класс Counter предоставляет несколько методов, которые могут вас заинтересовать. Например, вы можете вызывать элементы, которые будут выполнять итерацию над элементами, расположенными в словаре, но в произвольном порядке."
   ]
  },
  {
   "cell_type": "code",
   "execution_count": 37,
   "metadata": {},
   "outputs": [
    {
     "name": "stdout",
     "output_type": "stream",
     "text": [
      "['s', 's', 'u', 'u', 'u', 'p', 'e', 'r', 'f', 'l', 'o']\n",
      "<itertools.chain object at 0x7fbb387f1c88>\n"
     ]
    }
   ],
   "source": [
    "print(list(counter.elements()))\n",
    "print(counter.elements())"
   ]
  },
  {
   "cell_type": "markdown",
   "metadata": {},
   "source": [
    "Еще один полезный метод это most_common. Вы можете спросить Counter о том, какие объекты являются наиболее распространенными, передав число, отображающее наиболее часто повторяющие объекты:"
   ]
  },
  {
   "cell_type": "code",
   "execution_count": 38,
   "metadata": {},
   "outputs": [
    {
     "name": "stdout",
     "output_type": "stream",
     "text": [
      "[('u', 3), ('s', 2)]\n"
     ]
    }
   ],
   "source": [
    "print(counter.most_common(2))"
   ]
  },
  {
   "cell_type": "markdown",
   "metadata": {},
   "source": [
    "Метод substract - очень классная штука!"
   ]
  },
  {
   "cell_type": "code",
   "execution_count": 39,
   "metadata": {},
   "outputs": [
    {
     "name": "stdout",
     "output_type": "stream",
     "text": [
      "Counter({'u': 3, 's': 2, 'p': 1, 'e': 1, 'r': 1, 'f': 1, 'l': 1, 'o': 1})\n",
      "Counter({'u': 2, 's': 1, 'f': 1, 'l': 1, 'o': 1, 'p': 0, 'e': 0, 'r': 0})\n"
     ]
    }
   ],
   "source": [
    "counter_one = Counter('superfluous')\n",
    " \n",
    "# Counter({'u': 3, 's': 2, 'e': 1, 'l': 1, 'f': 1, 'o': 1, 'r': 1, 'p': 1})\n",
    "print(counter_one)\n",
    " \n",
    "counter_two = Counter('super')\n",
    "counter_one.subtract(counter_two)\n",
    " \n",
    "print(counter_one)"
   ]
  },
  {
   "cell_type": "markdown",
   "metadata": {},
   "source": [
    "**OrderedDict**"
   ]
  },
  {
   "cell_type": "markdown",
   "metadata": {},
   "source": [
    "Модуль Python collections имеет еще один замечательный наследуемый класс dict под названием OrderedDict. Как подразумевается в его названии, этот словарь отслеживает порядок ключей после их добавления. Если вы создадите обычный dict, вы заметите, что данные в нем неупорядоченные:"
   ]
  },
  {
   "cell_type": "code",
   "execution_count": 58,
   "metadata": {
    "collapsed": true
   },
   "outputs": [],
   "source": [
    "d = {'banana': 3, 'apple':4, 'pear': 1, 'orange': 2}\n"
   ]
  },
  {
   "cell_type": "code",
   "execution_count": 70,
   "metadata": {},
   "outputs": [
    {
     "name": "stdout",
     "output_type": "stream",
     "text": [
      "apple 4\n",
      "banana 3\n",
      "orange 2\n",
      "pear 1\n"
     ]
    }
   ],
   "source": [
    "keys = d.keys()\n",
    "keys = sorted(keys)\n",
    " \n",
    "for key in keys:\n",
    "    print (key, d[key])"
   ]
  },
  {
   "cell_type": "code",
   "execution_count": 2,
   "metadata": {},
   "outputs": [
    {
     "name": "stdout",
     "output_type": "stream",
     "text": [
      "OrderedDict([('apple', 4), ('banana', 3), ('orange', 2), ('pear', 1)])\n"
     ]
    }
   ],
   "source": [
    "from collections import OrderedDict\n",
    " \n",
    "d = {'banana': 3, 'apple':4, 'pear': 1, 'orange': 2}\n",
    "new_d = OrderedDict(sorted(d.items()))\n",
    " \n",
    "print(new_d)\n"
   ]
  },
  {
   "cell_type": "markdown",
   "metadata": {},
   "source": [
    "В обычных словарях разный порядок ключей не исключает равенства, в OrderedDict - исключает, что иногда бывает весьма полезно."
   ]
  },
  {
   "cell_type": "code",
   "execution_count": 3,
   "metadata": {},
   "outputs": [
    {
     "name": "stdout",
     "output_type": "stream",
     "text": [
      "True\n",
      "False\n"
     ]
    }
   ],
   "source": [
    "d = {'banana': 3, 'apple':4, 'pear': 1, 'orange': 2}\n",
    "b = {'apple':4, 'pear': 1, 'orange': 2,'banana': 3}\n",
    "print (d == b)\n",
    "d_ord = OrderedDict(d)\n",
    "b_ord = OrderedDict(b)\n",
    "print (d_ord == b_ord)"
   ]
  },
  {
   "cell_type": "markdown",
   "metadata": {},
   "source": [
    "**Дома**"
   ]
  },
  {
   "cell_type": "markdown",
   "metadata": {},
   "source": [
    "deque, namedtuple"
   ]
  }
 ],
 "metadata": {
  "kernelspec": {
   "display_name": "Python 3",
   "language": "python",
   "name": "python3"
  },
  "language_info": {
   "codemirror_mode": {
    "name": "ipython",
    "version": 3
   },
   "file_extension": ".py",
   "mimetype": "text/x-python",
   "name": "python",
   "nbconvert_exporter": "python",
   "pygments_lexer": "ipython3",
   "version": "3.6.2"
  }
 },
 "nbformat": 4,
 "nbformat_minor": 2
}
